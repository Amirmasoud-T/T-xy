{
 "cells": [
  {
   "cell_type": "code",
   "execution_count": null,
   "metadata": {},
   "outputs": [],
   "source": [
    "import numpy as np\n",
    "import pandas as pd\n",
    "A = np.zeros([2])\n",
    "B = np.zeros([2])\n",
    "C = np.zeros([2])\n",
    "for i in range(2):\n",
    "    A[i] = float(input(f'A{i+1} = '))\n",
    "    B[i] = float(input(f'B{i+1} = '))\n",
    "    C[i] = float(input(f'C{i+1} = '))"
   ]
  },
  {
   "cell_type": "code",
   "execution_count": null,
   "metadata": {},
   "outputs": [],
   "source": [
    "P = float(input('Vlue of pressure in mmHg : '))"
   ]
  },
  {
   "cell_type": "code",
   "execution_count": null,
   "metadata": {},
   "outputs": [],
   "source": [
    "saturated_T = np.array([])\n",
    "for i in range(2):\n",
    "    TS = (B[i]/(A[i]-np.log10(P))-C[i])\n",
    "    saturated_T = np.append(saturated_T,TS)\n",
    "T = np.linspace(saturated_T[0],saturated_T[1],21)"
   ]
  },
  {
   "cell_type": "code",
   "execution_count": null,
   "metadata": {},
   "outputs": [],
   "source": [
    "print(f'Temperature arange is from {saturated_T[0]} to {saturated_T[1]}')"
   ]
  },
  {
   "cell_type": "code",
   "execution_count": null,
   "metadata": {},
   "outputs": [],
   "source": [
    "saturated_T = np.array([])\n",
    "for i in range(2):\n",
    "    TS = (B[i]/(A[i]-np.log10(P))-C[i])\n",
    "    saturated_T = np.append(saturated_T,TS)\n",
    "T = np.linspace(saturated_T[0],saturated_T[1],20)\n",
    "PA = np.array([])\n",
    "for i in range(len(T)):\n",
    "    P = 10**(A[0]-(B[0]/(T[i]+C[0])))\n",
    "    PA = np.append(PA,P)\n",
    "PB  = np.array([])\n",
    "for i in range(len(T)):\n",
    "    P = 10**(A[1]-(B[1]/(T[i]+C[1])))\n",
    "    PB = np.append(PB,P)\n",
    "x1 = np.array([])\n",
    "for i in range(len(T)):\n",
    "    x = (P-PB[i])/(PA[i]-PB[i])\n",
    "    x1 = np.append(x1,x)\n",
    "y1 = np.array([])\n",
    "for i in range(len(T)):\n",
    "    y = (PA[i]*x1[i])/P\n",
    "    y1 = np.append(y1,y)\n",
    "table = pd.DataFrame(T,columns=['Temperature'])\n",
    "table['PA'] = PA\n",
    "table['PB'] = PB\n",
    "table['x1'] = x1\n",
    "table['y1'] = y1\n",
    "table"
   ]
  },
  {
   "cell_type": "code",
   "execution_count": null,
   "metadata": {},
   "outputs": [],
   "source": [
    "import matplotlib.pyplot as plt\n",
    "\n",
    "plt.figure(figsize=(4,4))\n",
    "plt.plot(x1, T, marker='o', linestyle='-', color='blue', label='T-x')\n",
    "plt.plot(y1, T, marker='s', color='red', label='T-y')\n",
    "plt.xlabel('x,y')\n",
    "plt.ylabel('Temperature')\n",
    "plt.title('T-xy')\n",
    "plt.grid(True)\n",
    "\n",
    "plt.figure(figsize=(4,4))\n",
    "plt.plot(x1,y1,color='blue')\n",
    "x = np.linspace(0, 1, 20)\n",
    "y = x\n",
    "plt.plot(x, y,color='red')\n",
    "plt.xlabel('x')\n",
    "plt.ylabel('y')\n",
    "plt.title('x-y')\n",
    "plt.grid(True)\n"
   ]
  }
 ],
 "metadata": {
  "kernelspec": {
   "display_name": "Python 3",
   "language": "python",
   "name": "python3"
  },
  "language_info": {
   "codemirror_mode": {
    "name": "ipython",
    "version": 3
   },
   "file_extension": ".py",
   "mimetype": "text/x-python",
   "name": "python",
   "nbconvert_exporter": "python",
   "pygments_lexer": "ipython3",
   "version": "3.12.2"
  }
 },
 "nbformat": 4,
 "nbformat_minor": 2
}
